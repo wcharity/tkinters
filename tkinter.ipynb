{
 "cells": [
  {
   "cell_type": "markdown",
   "id": "ea40a0c8",
   "metadata": {},
   "source": [
    "## 1. Alarm clock"
   ]
  },
  {
   "cell_type": "code",
   "execution_count": 1,
   "id": "7e1f1285",
   "metadata": {},
   "outputs": [],
   "source": [
    "from tkinter import *\n",
    "import datetime\n",
    "import time\n",
    "import winsound\n",
    "\n",
    "def alarm(set_alarm_timer):\n",
    "    while True:\n",
    "        #time.sleep(1)\n",
    "        current_time = datetime.datetime.now()\n",
    "        now = current_time.strftime(\"%H:%M:%S\")\n",
    "        date = current_time.strftime(\"%d/%m/%Y\")\n",
    "        #print(\"The Set Date is:\",date)\n",
    "        #print(now)\n",
    "        if now == set_alarm_timer:\n",
    "            print(\"Time to Wake up\")\n",
    "            winsound.PlaySound(\"sound.wav\",winsound.SND_ASYNC)# plays windows sound \n",
    "            break\n",
    "def actual_time():\n",
    "    set_alarm_timer = f\"{hour.get()}:{minute.get()}:{sec.get()}\"\n",
    "    alarm(set_alarm_timer)"
   ]
  },
  {
   "cell_type": "code",
   "execution_count": 2,
   "id": "b812cd8b",
   "metadata": {},
   "outputs": [
    {
     "name": "stdout",
     "output_type": "stream",
     "text": [
      "Time to Wake up\n"
     ]
    }
   ],
   "source": [
    "clock = Tk()\n",
    "clock.title(\"My Alarm Clock\")\n",
    "clock.geometry(\"400x200\")\n",
    "time_format=Label(clock, text= \"Enter time in 24 hour format!\", fg=\"red\",bg=\"black\",font=\"Arial\").place(x=60,y=120)\n",
    "addTime = Label(clock,text = \"Hour  Min   Sec\",font=60).place(x = 110)\n",
    "setYourAlarm = Label(clock,text = \"When to wake you up\",fg=\"blue\",relief = \"solid\",font=(\"Helevetica\",7,\"bold\")).place(x=0, y=29)\n",
    "# The Variables we require to set the alarm(initialization):\n",
    "hour = StringVar()\n",
    "minute = StringVar()\n",
    "sec = StringVar()\n",
    "#Time required to set the alarm clock:\n",
    "hourTime= Entry(clock,textvariable = hour,bg = \"pink\",width = 15).place(x=110,y=30)\n",
    "minTime= Entry(clock,textvariable = minute,bg = \"pink\",width = 15).place(x=150,y=30)\n",
    "secTime = Entry(clock,textvariable = sec,bg = \"pink\",width = 15).place(x=200,y=30)\n",
    "#To take the time input by user:\n",
    "submit = Button(clock,text = \"Set Alarm\",fg=\"red\",width = 10,command = actual_time).place(x =110,y=70)\n",
    "clock.mainloop()\n",
    "#Execution of the window."
   ]
  },
  {
   "cell_type": "code",
   "execution_count": null,
   "id": "87719c3d",
   "metadata": {},
   "outputs": [],
   "source": []
  },
  {
   "cell_type": "markdown",
   "id": "63d024d7",
   "metadata": {},
   "source": [
    "## Madlibs"
   ]
  },
  {
   "cell_type": "code",
   "execution_count": 18,
   "id": "7eef3532",
   "metadata": {},
   "outputs": [],
   "source": [
    "def madlib1():\n",
    "    animals= input('enter a animal name : ')\n",
    "    profession = input('enter a profession name: ')\n",
    "    cloth = input('enter a piece of cloth name: ')\n",
    "    things = input('enter a thing name: ')\n",
    "    name= input('enter a name: ')\n",
    "    place = input('enter a place name: ')\n",
    "    verb = input('enter a verb in ing form: ')\n",
    "    food = input('food name: ')\n",
    "    print('say' + food + ', the photographer said as the camera flashed! ' + name +'',\n",
    "        'and I had gone to ' + place +' to get our photos taken on my birthday. The' ,\n",
    "        'first photo we really wanted was a picture of us dressed as ' + animals +'',\n",
    "        'pretending to be a' + profession + '. when we saw the second photo, it was',\n",
    "        'exactly what I wanted. We both looked like ' + things + ' wearing ' + cloth +'',\n",
    "        'and ' + verb + ' --exactly what I had in mind')\n",
    "    \n",
    "def madlib2():\n",
    "   \n",
    "    adjactive = input('enter adjective : ')\n",
    "    color = input('enter a color name : ')\n",
    "    thing = input('enter a thing name :')\n",
    "    place = input('enter a place name : ')\n",
    "    person= input('enter a person name : ')\n",
    "    adjactive1 = input('enter a adjactive : ')\n",
    "    insect= input('enter a insect name : ')\n",
    "    food = input('enter a food name : ')\n",
    "    verb = input('enter a verb name : ')\n",
    "    print('Last night I dreamed I was a ' +adjactive+ ' butterfly with ' + color+ ' splocthes',\n",
    "          'that looked like '+thing+ ' .I flew to ' + place+ ' with my bestfriend and '+person+'',\n",
    "          'who was a '+adjactive1+ ' ' +insect +' .We ate some ' +food+ ' when we got there and',\n",
    "          'then decided to '+verb+ ' and the dream ended when I said-- lets ' +verb+ '.')\n",
    "    \n",
    "def madlib3():\n",
    "    person = input('enter person name: ')\n",
    "    color = input('enter color : ')\n",
    "    foods = input('enter food name : ')\n",
    "    adjective = input('enter aa adjective name: ')\n",
    "    thing = input('enter a thing name : ')\n",
    "    place = input('enter place : ')\n",
    "    verb = input('enter verb : ')\n",
    "    adverb = input('enter adverb : ')\n",
    "    food = input('enter food name: ')\n",
    "    things = input('enter a thing name : ')\n",
    "   \n",
    "    print('Today we picked apple from '+person+'\"s Orchard. I had no idea there were so many different',\n",
    "   'varieties of apples. I ate '+color+ ' apples straight off the tree that tested like '+foods+ '. Then',\n",
    "   'there was a '+adjective+ ' apple that looked like a ' + thing + '.When our bag were full, we went on a',\n",
    "    'free hay ride to '+place+ ' and back. It ended at a hay pile where we got to ' +verb+ ' ' +adverb+ '. I',\n",
    "    'can hardly wait to get home and cook with the apples. We are going to make appple '+food+ ' and '+things+' pies!.')  \n"
   ]
  },
  {
   "cell_type": "code",
   "execution_count": 20,
   "id": "0d8a5cff",
   "metadata": {},
   "outputs": [],
   "source": [
    "root = Tk()\n",
    "root.geometry('300x300')\n",
    "root.title('Mad Libs Generator')\n",
    "Label(root, text= 'Mad Libs Generator \\n Have Fun!' , font = 'arial 20 bold').pack()#pack organizes widget into a block\n",
    "Label(root, text = 'Click Any One :', font = 'arial 15 bold').place(x=40, y=80)\n",
    "Button(root, text= 'The Photographer', font ='arial 15', command= madlib1, bg = 'ghost white').place(x=60, y=120)\n",
    "Button(root, text= 'apple and apple', font ='arial 15', command = madlib3 , bg = 'ghost white').place(x=70, y=180)\n",
    "Button(root, text= 'The Butterfly', font ='arial 15', command = madlib2, bg = 'ghost white').place(x=80, y=240)\n",
    "root.mainloop()"
   ]
  },
  {
   "cell_type": "code",
   "execution_count": null,
   "id": "1fa13664",
   "metadata": {},
   "outputs": [],
   "source": []
  },
  {
   "cell_type": "markdown",
   "id": "98f96407",
   "metadata": {},
   "source": [
    "## Gooogle text to speech"
   ]
  },
  {
   "cell_type": "code",
   "execution_count": 41,
   "id": "5611ef03",
   "metadata": {},
   "outputs": [],
   "source": [
    "from gtts import gTTS\n",
    "from playsound import playsound\n",
    "import os"
   ]
  },
  {
   "cell_type": "code",
   "execution_count": 45,
   "id": "fb61702c",
   "metadata": {},
   "outputs": [],
   "source": [
    "def Text_to_speech():\n",
    "    message = msg.get()\n",
    "    speech = gTTS(text = message)\n",
    "    speech.save('speech.mp3')\n",
    "    #audio_file = os.path.dirname(__file__) + '\\speech.mp3'\n",
    "    #playsound(audio_file)\n",
    "    playsound('speech.mp3',True)\n",
    "    os.remove(\"speech.mp3\")\n",
    "    \n",
    "def Exit():\n",
    "    root.destroy()\n",
    "    \n",
    "def Reset():\n",
    "    msg.set(\"\")"
   ]
  },
  {
   "cell_type": "code",
   "execution_count": 46,
   "id": "1a2fa608",
   "metadata": {},
   "outputs": [
    {
     "name": "stderr",
     "output_type": "stream",
     "text": [
      "\n",
      "    Error 263 for command:\n",
      "        open speech.mp3\n",
      "    The specified device is not open or is not recognized by MCI.\n",
      "\n",
      "    Error 263 for command:\n",
      "        close speech.mp3\n",
      "    The specified device is not open or is not recognized by MCI.\n",
      "Failed to close the file: speech.mp3\n",
      "Exception in Tkinter callback\n",
      "Traceback (most recent call last):\n",
      "  File \"C:\\Users\\charityg\\anaconda3\\lib\\tkinter\\__init__.py\", line 1892, in __call__\n",
      "    return self.func(*args)\n",
      "  File \"C:\\Users\\charityg\\AppData\\Local\\Temp/ipykernel_20064/3221630288.py\", line 7, in Text_to_speech\n",
      "    playsound('speech.mp3',True)\n",
      "  File \"C:\\Users\\charityg\\anaconda3\\lib\\site-packages\\playsound.py\", line 72, in _playsoundWin\n",
      "    winCommand(u'open {}'.format(sound))\n",
      "  File \"C:\\Users\\charityg\\anaconda3\\lib\\site-packages\\playsound.py\", line 64, in winCommand\n",
      "    raise PlaysoundException(exceptionMessage)\n",
      "playsound.PlaysoundException: \n",
      "    Error 263 for command:\n",
      "        open speech.mp3\n",
      "    The specified device is not open or is not recognized by MCI.\n"
     ]
    }
   ],
   "source": [
    "root = Tk()\n",
    "root.geometry('300x300')\n",
    "root.title('Text to Speech')\n",
    "Label(root, text ='Write it we say it!', font='calibri 20 bold').pack()\n",
    "\n",
    "msg = StringVar()\n",
    "entry_field= Entry(root, textvariable= msg, font ='calibri 20',width = 50).place(x=20,y = 100)\n",
    "\n",
    "Button(root, text = \"PLAY\", font = 'calibri 15 bold' , command = Text_to_speech ,width = '4').place(x=25,y=140)\n",
    "Button(root, font = 'calibri 15 bold',text = 'EXIT', width = '4' , command = Exit, bg = 'OrangeRed1').place(x=100 , y = 140)\n",
    "Button(root, font = 'calibri 15 bold',text = 'RESET', width = '6' , command = Reset).place(x=175 , y = 140)\n",
    "\n",
    "root.mainloop()"
   ]
  },
  {
   "cell_type": "code",
   "execution_count": null,
   "id": "5c762b9a",
   "metadata": {},
   "outputs": [],
   "source": []
  }
 ],
 "metadata": {
  "kernelspec": {
   "display_name": "Python 3 (ipykernel)",
   "language": "python",
   "name": "python3"
  },
  "language_info": {
   "codemirror_mode": {
    "name": "ipython",
    "version": 3
   },
   "file_extension": ".py",
   "mimetype": "text/x-python",
   "name": "python",
   "nbconvert_exporter": "python",
   "pygments_lexer": "ipython3",
   "version": "3.9.7"
  }
 },
 "nbformat": 4,
 "nbformat_minor": 5
}
