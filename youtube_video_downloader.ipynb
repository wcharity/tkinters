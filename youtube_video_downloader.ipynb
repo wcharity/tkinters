{
 "cells": [
  {
   "cell_type": "code",
   "execution_count": 3,
   "id": "3ac5dd1d",
   "metadata": {},
   "outputs": [],
   "source": [
    "from tkinter import *\n",
    "from pytube import YouTube"
   ]
  },
  {
   "cell_type": "code",
   "execution_count": 13,
   "id": "276750bd",
   "metadata": {},
   "outputs": [],
   "source": [
    "def downloader():\n",
    "    url = YouTube(str(the_link.get()))\n",
    "    video = url.streams.first()\n",
    "    video.download()\n",
    "    \n",
    "    Label(root, text='Finished downloading', font='calibri 10 bold').place(x= 50, y= 150)"
   ]
  },
  {
   "cell_type": "code",
   "execution_count": 14,
   "id": "9d58a45f",
   "metadata": {},
   "outputs": [],
   "source": [
    "root = Tk()\n",
    "root.geometry('400x300')\n",
    "root.title('Youtube Downloader')\n",
    "Label(root, text ='Paste or write a link here', font='calibri 20 bold').pack()\n",
    "\n",
    "the_link = StringVar()\n",
    "\n",
    "link = Entry(root, textvariable = the_link, width = 80 ).place(x = 20, y = 50)\n",
    "\n",
    "Button(root, text = 'DOWNLOAD', fg ='white', bg='blue', font = 'calibri 15', command=downloader).place(x = 100, y = 100)\n",
    "\n",
    "root.mainloop()"
   ]
  },
  {
   "cell_type": "code",
   "execution_count": null,
   "id": "545a196b",
   "metadata": {},
   "outputs": [],
   "source": []
  }
 ],
 "metadata": {
  "kernelspec": {
   "display_name": "Python 3 (ipykernel)",
   "language": "python",
   "name": "python3"
  },
  "language_info": {
   "codemirror_mode": {
    "name": "ipython",
    "version": 3
   },
   "file_extension": ".py",
   "mimetype": "text/x-python",
   "name": "python",
   "nbconvert_exporter": "python",
   "pygments_lexer": "ipython3",
   "version": "3.9.7"
  }
 },
 "nbformat": 4,
 "nbformat_minor": 5
}
